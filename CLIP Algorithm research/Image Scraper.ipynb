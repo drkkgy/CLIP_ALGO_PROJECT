{
 "cells": [
  {
   "cell_type": "code",
   "execution_count": 1,
   "id": "fb60e316",
   "metadata": {},
   "outputs": [],
   "source": [
    "import requests\n",
    "import pandas as pd\n",
    "from bs4 import BeautifulSoup\n",
    "import os\n",
    "import time\n",
    "import io\n",
    "from PIL import Image\n",
    "import PIL\n",
    "import hashlib\n",
    "\n"
   ]
  },
  {
   "cell_type": "code",
   "execution_count": 2,
   "id": "1a28e525",
   "metadata": {},
   "outputs": [],
   "source": [
    "import selenium\n",
    "from selenium import webdriver\n",
    "# This is the path I use\n",
    "# DRIVER_PATH = '.../Desktop/Scraping/chromedriver 2'\n",
    "# Put the path for your ChromeDriver here\n",
    "DRIVER_PATH = 'D:\\Adelaide Study Details\\Sem-1\\Research\\CLIP Algorithm research\\chromedriver'\n",
    "wd = webdriver.Chrome(executable_path=DRIVER_PATH)"
   ]
  },
  {
   "cell_type": "code",
   "execution_count": 3,
   "id": "8ceaa866",
   "metadata": {},
   "outputs": [],
   "source": [
    "def fetch_image_urls(query:str, max_links_to_fetch:int, wd:webdriver, sleep_between_interactions:int=1):\n",
    "    def scroll_to_end(wd):\n",
    "        wd.execute_script(\"window.scrollTo(0, document.body.scrollHeight);\")\n",
    "        time.sleep(sleep_between_interactions)    \n",
    "    \n",
    "    # build the google query\n",
    "    search_url = \"https://www.google.com/search?safe=off&site=&tbm=isch&source=hp&q={q}&oq={q}&gs_l=img\"\n",
    "\n",
    "    # load the page\n",
    "    wd.get(search_url.format(q=query))\n",
    "\n",
    "    image_urls = set()\n",
    "    image_name = set()\n",
    "    image_count = 0\n",
    "    results_start = 0\n",
    "    while image_count < max_links_to_fetch:\n",
    "        scroll_to_end(wd)\n",
    "\n",
    "        # get all image thumbnail results\n",
    "        thumbnail_results = wd.find_elements_by_css_selector(\"img.Q4LuWd\")\n",
    "        number_results = len(thumbnail_results)\n",
    "        \n",
    "        print(f\"Found: {number_results} search results. Extracting links from {results_start}:{number_results}\")\n",
    "        \n",
    "        for img in thumbnail_results[results_start:number_results]:\n",
    "            # try to click every thumbnail such that we can get the real image behind it\n",
    "            try:\n",
    "                img.click()\n",
    "                time.sleep(sleep_between_interactions)\n",
    "            except Exception:\n",
    "                continue\n",
    "\n",
    "            # extract image urls    \n",
    "            actual_images = wd.find_elements_by_css_selector('img.n3VNCb')\n",
    "            for actual_image in actual_images:\n",
    "                if actual_image.get_attribute('src') and 'http' in actual_image.get_attribute('src'):\n",
    "                    image_urls.add(actual_image.get_attribute('src'))\n",
    "                    image_name.add(actual_image.get_attribute('alt'))\n",
    "\n",
    "            image_count = len(image_urls)\n",
    "\n",
    "            if len(image_urls) >= max_links_to_fetch:\n",
    "                print(f\"Found: {len(image_urls)} image links, done!\")\n",
    "                break\n",
    "        else:\n",
    "            print(\"Found:\", len(image_urls), \"image links, looking for more ...\")\n",
    "            time.sleep(30)\n",
    "            return\n",
    "            load_more_button = wd.find_element_by_css_selector(\".mye4qd\")\n",
    "            if load_more_button:\n",
    "                wd.execute_script(\"document.querySelector('.mye4qd').click();\")\n",
    "\n",
    "        # move the result startpoint further down\n",
    "        results_start = len(thumbnail_results)\n",
    "\n",
    "    return image_urls,image_name"
   ]
  },
  {
   "cell_type": "code",
   "execution_count": 4,
   "id": "14c7a123",
   "metadata": {},
   "outputs": [],
   "source": [
    "def persist_image(folder_path:str,url:str,img_name:str):\n",
    "    try:\n",
    "        image_content = requests.get(url).content\n",
    "\n",
    "    except Exception as e:\n",
    "        print(f\"ERROR - Could not download {url} - {e}\")\n",
    "\n",
    "    try:\n",
    "        image_file = io.BytesIO(image_content)\n",
    "        image = Image.open(image_file).convert('RGB')\n",
    "        #file_path = os.path.join(folder_path,img_name + '.jpg')\n",
    "        file_path = os.path.join(folder_path,hashlib.sha1(image_content).hexdigest()[:10].replace(\n",
    "            hashlib.sha1(image_content).hexdigest()[:10], img_name) + '.jpg')\n",
    "        with open(file_path, 'wb') as f:\n",
    "            image.save(f, \"JPEG\", quality=85)\n",
    "        print(f\"SUCCESS - saved {url} - as {file_path}\")\n",
    "    except Exception as e:\n",
    "        print(f\"ERROR - Could not save {url} - {e}\")\n",
    "        \n"
   ]
  },
  {
   "cell_type": "code",
   "execution_count": 5,
   "id": "62bf013d",
   "metadata": {},
   "outputs": [],
   "source": [
    "def search_and_download(search_term:str,driver_path:str,target_path='./images',number_images=5):\n",
    "    target_folder = os.path.join(target_path,'_'.join(search_term.lower().split(' ')))\n",
    "\n",
    "    if not os.path.exists(target_folder):\n",
    "        os.makedirs(target_folder)\n",
    "\n",
    "    with webdriver.Chrome(executable_path=driver_path) as wd:\n",
    "        res,name = fetch_image_urls(search_term, number_images, wd=wd, sleep_between_interactions=1)\n",
    "       \n",
    "    for elem,name1 in zip(res,name):\n",
    "        persist_image(target_folder,elem,name1.replace(\" \", \"_\"))\n",
    "    return \"Scraping completed\""
   ]
  },
  {
   "cell_type": "code",
   "execution_count": null,
   "id": "5705b45b",
   "metadata": {
    "scrolled": true
   },
   "outputs": [
    {
     "name": "stdout",
     "output_type": "stream",
     "text": [
      "Found: 100 search results. Extracting links from 0:100\n",
      "Found: 25 image links, done!\n",
      "ERROR - Could not save https://akm-img-a-in.tosshub.com/indiatoday/images/story/202108/international_dog_day_2021_4_r_1200x768.jpeg?mhENil.rEsB2Wju30UDroUYKmJ4NfkX4&size=770:433 - [Errno 22] Invalid argument: './images\\\\dog\\\\Planning_on_bringing_home_a_dog?_Make_sure_you_pick_the_right_one_|__Lifestyle_News,The_Indian_Express.jpg'\n",
      "SUCCESS - saved https://post.medicalnewstoday.com/wp-content/uploads/sites/3/2020/02/322868_1100-800x825.jpg - as ./images\\dog\\12_Common_Dog_Breeds_and_Their_Health_Issues.jpg\n",
      "SUCCESS - saved https://www.cdc.gov/healthypets/images/pets/cute-dog-headshot.jpg?_=42445 - as ./images\\dog\\Dogs.jpg\n",
      "SUCCESS - saved https://www.cdc.gov/healthypets/images/pets/angry-dog.jpg?_=03873 - as ./images\\dog\\How_canines_capture_your_heart:_scientists_explain_puppy_dog_eyes_|_Animal__behaviour_|_The_Guardian.jpg\n",
      "SUCCESS - saved https://i.natgeofe.com/n/4f5aaece-3300-41a4-b2a8-ed2708a0a27c/domestic-dog_thumb_4x3.jpg - as ./images\\dog\\How_dogs_contribute_to_your_health_and_happiness.jpg\n",
      "ERROR - Could not save https://www.gannett-cdn.com/media/2021/06/03/USATODAY/usatsports/imageForEntry18-8on.jpg?width=2560 - [Errno 22] Invalid argument: './images\\\\dog\\\\Dogs_|_Healthy_Pets,_Healthy_People_|_CDC.jpg'\n",
      "ERROR - Could not save https://i.insider.com/5484d9d1eab8ea3017b17e29?width=600&format=jpeg&auto=webp - [Errno 22] Invalid argument: './images\\\\dog\\\\The_Best_Dogs_of_BBC_Earth_|_Top_5_|_BBC_Earth_-_YouTube.jpg'\n",
      "SUCCESS - saved https://encrypted-tbn0.gstatic.com/images?q=tbn:ANd9GcSfMrZwXNHTlMVE-SymlzpcIL7mEBNV0ML9lw&usqp=CAU - as ./images\\dog\\A_German_shepherd_is_first_dog_in_the_U.S._to_test_positive_for_the__coronavirus.jpg\n",
      "SUCCESS - saved https://ggsc.s3.amazonaws.com/images/uploads/The_Science-Backed_Benefits_of_Being_a_Dog_Owner.jpg - as ./images\\dog\\Dog_breeds:_Most_popular_in_America.jpg\n",
      "SUCCESS - saved https://encrypted-tbn0.gstatic.com/images?q=tbn:ANd9GcTop31TFo1k5vRkHWnmq6ujs6lJe0LJyMLbZg&usqp=CAU - as ./images\\dog\\Dog_Breeds_Banned_By_Home_Insurance_Companies_–_Forbes_Advisor.jpg\n",
      "SUCCESS - saved https://encrypted-tbn0.gstatic.com/images?q=tbn:ANd9GcRlfjz8jGVsfPpSxI00bmHe9dm1InvBQQJTPw&usqp=CAU - as ./images\\dog\\Best_Friends:_You_and_Your_Dog_-_HelpGuide.org.jpg\n",
      "SUCCESS - saved https://images.indianexpress.com/2021/07/dog-2785074_1280.jpg - as ./images\\dog\\Dogs_caught_coronavirus_from_their_owners,_genetic_analysis_suggests.jpg\n",
      "SUCCESS - saved https://i.ytimg.com/vi/MPV2METPeJU/maxresdefault.jpg - as ./images\\dog\\The_25_Cutest_Dog_Breeds_-_Most_Adorable_Dogs_and_Puppies.jpg\n",
      "SUCCESS - saved https://hips.hearstapps.com/hmg-prod.s3.amazonaws.com/images/dog-puppy-on-garden-royalty-free-image-1586966191.jpg?crop=1.00xw:0.669xh;0,0.190xh&resize=1200:* - as ./images\\dog\\Parvo_in_Dogs_and_Puppies:_Causes_and_Treatment_for_Canine_Parvovirus_|__PetMD.jpg\n",
      "ERROR - Could not save https://i.natgeofe.com/n/187b3223-0b45-4aa5-ae5c-24793dd2d6cb/01-german-shepherd-coronavirus-bwtkdt_3x4.jpg - [Errno 22] Invalid argument: './images\\\\dog\\\\What_animal_welfare_problems_are_associated_with_dog_breeding?_–_RSPCA__Knowledgebase.jpg'\n",
      "SUCCESS - saved https://media.nature.com/lw800/magazine-assets/d41586-020-01430-5/d41586-020-01430-5_17977552.jpg - as ./images\\dog\\Dog,_facts_and_photos.jpg\n",
      "SUCCESS - saved https://post.healthline.com/wp-content/uploads/2020/08/3180-Pug_green_grass-732x549-thumbnail-732x549.jpg - as ./images\\dog\\Hong_Kong_dog_causes_panic_–_but_here&#39;s_why_you_needn&#39;t_worry_about_pets__spreading_COVID-19.jpg\n",
      "ERROR - Could not save https://s3-us-west-2.amazonaws.com/uw-s3-cdn/wp-content/uploads/sites/6/2019/10/08113321/Dog-behavior-Kasper-Luijsterburg.jpg - [Errno 22] Invalid argument: './images\\\\dog\\\\Genes_contribute_to_dog_breeds&#39;_iconic_traits_|_UW_News.jpg'\n",
      "SUCCESS - saved https://www.helpguide.org/wp-content/uploads/king-charles-spaniel-resting-head-768.jpg - as ./images\\dog\\International_Dog_Day_2021:_History,_significance,_celebrations,_images_and__quotes|_Everything_you_need_to_know_-_Information_News.jpg\n",
      "SUCCESS - saved https://i.guim.co.uk/img/media/fe1e34da640c5c56ed16f76ce6f994fa9343d09d/0_174_3408_2046/master/3408.jpg?width=1200&height=900&quality=85&auto=format&fit=crop&s=0d3f33fb6aa6e0154b7713a00454c83d - as ./images\\dog\\9_Reasons_to_Own_a_Dog.jpg\n",
      "SUCCESS - saved https://kb.rspca.org.au/wp-content/uploads/2018/11/golder-retriever-puppy.jpeg - as ./images\\dog\\The_Science-Backed_Benefits_of_Being_a_Dog_Owner.jpg\n",
      "Found: 100 search results. Extracting links from 0:100\n",
      "Found: 25 image links, done!\n",
      "ERROR - Could not save https://5.imimg.com/data5/OE/FL/MY-47770095/dog-house-500x500.jpg - [Errno 22] Invalid argument: './images\\\\dog_in_house\\\\PetNest_Wooden_Water_Proof_Dog_House_Outdoor_Ideal_for_Large_Size_Dogs__Labrador_and_German_Shepherd_:_Amazon.in:_Pet_Supplies.jpg'\n",
      "SUCCESS - saved https://static.toiimg.com/thumb/msid-74774056,width-1200,height-900,resizemode-4/.jpg - as ./images\\dog_in_house\\Living_in_the_Dog_House:_The_Emotional_Benefit_of_Dogs_–_Michal_Agus_Fox.jpg\n",
      "SUCCESS - saved https://nationaltoday.com/wp-content/uploads/2021/06/shutterstock_695423926-min.jpg - as ./images\\dog_in_house\\DIY_Insulated_Dog_House_Build_-_YouTube.jpg\n",
      "SUCCESS - saved https://static.thebark.com/sites/default/files/content/blog/full/dog-proofing-your-home-room-guide.jpg - as ./images\\dog_in_house\\Snow_Dog_House,_Amer_Road_-_Pet_Shops_in_Jaipur_-_Justdial.jpg\n",
      "ERROR - Could not save https://image.shutterstock.com/image-photo/dog-sitting-pet-booth-cozy-260nw-1622196817.jpg - [Errno 22] Invalid argument: './images\\\\dog_in_house\\\\Who&#39;s_The_Alpha_Dog_In_Your_Multi-Dog_House?_-_Little_Dog_Tips.jpg'\n",
      "ERROR - Could not save https://cdn.shopclues.com/images/thumbnails/38717/320/320/IMG20160428WA00301465280735.jpg - [Errno 22] Invalid argument: './images\\\\dog_in_house\\\\AmazonBasics_Elevated_Portable_Pet_House_-_Medium,_Black_:_Amazon.in:_Pet__Supplies.jpg'\n",
      "ERROR - Could not save https://encrypted-tbn0.gstatic.com/images?q=tbn:ANd9GcR0I5XxjLPXMVYm43lKxehxa2_eBfOjn65GhA&usqp=CAU - [Errno 22] Invalid argument: './images\\\\dog_in_house\\\\DOG_HOUSE_REPAIR_MONTH_-_July_1,_2022_|_National_Today.jpg'\n",
      "ERROR - Could not save https://media.architecturaldigest.com/photos/5b5f3f9c2acdbe14ff211b6d/master/pass/%22Bow%20Wow%20Haus%22%20by%20Robert%20Young%20of%20Robert%20Young%20Architecture,%20built%20by%20Fountainhead%20Construction,%20with%20former%20ARFan%20Tara.%20%20Photo%20by%20Tria%20Giovan%20-1321.jpg - [Errno 22] Invalid argument: './images\\\\dog_in_house\\\\Dog_Inside_House_Images,_Stock_Photos_&amp;_Vectors_|_Shutterstock.jpg'\n",
      "ERROR - Could not save https://michalagusfox.files.wordpress.com/2019/01/add24c14-8598-4798-b3fb-4d68c8e77f9c.jpg?w=1100 - [Errno 22] Invalid argument: './images\\\\dog_in_house\\\\Does_My_Dog_Need_a_Dog_House?_|_PetMD.jpg'\n",
      "ERROR - Could not save https://image.shutterstock.com/image-photo/beautiful-woman-hugging-her-adorable-260nw-1539127433.jpg - [Errno 22] Invalid argument: './images\\\\dog_in_house\\\\How_to_Stop_Dog_from_Peeing_in_the_House_|_Four_Paws.jpg'\n",
      "SUCCESS - saved https://media.istockphoto.com/photos/dogs-house-and-small-dog-picture-id495353836 - as ./images\\dog_in_house\\Buy_Dog_house_Online_-_Get_44%_Off.jpg\n",
      "SUCCESS - saved https://media.istockphoto.com/photos/funny-pug-dog-in-the-dog-house-picture-id516461357?k=20&m=516461357&s=612x612&w=0&h=kQzKEbQkQ4AdGGkHzi4vjgRVbskI4yGVoqnmI2B329o= - as ./images\\dog_in_house\\Dogs_House_And_Small_Dog_Stock_Photo_-_Download_Image_Now_-_iStock.jpg\n",
      "ERROR - Could not save https://m.media-amazon.com/images/I/81FuMKwXu+L._SY355_.jpg - [Errno 22] Invalid argument: './images\\\\dog_in_house\\\\Brown_Plastic_Dog_Houses_at_Rs_900/piece_|_Rampuram_|_Kanpur|_ID:__22203893862.jpg'\n",
      "ERROR - Could not save https://m.media-amazon.com/images/S/aplus-media/sota/32d098b1-73ab-4f6b-ae29-23865819c487.__CR0,0,970,600_PT0_SX970_V1___.jpg - [Errno 22] Invalid argument: './images\\\\dog_in_house\\\\This_Dog_House_Plan_Is_Exactly_What_Your_Pet_Needs_|_Southern_Living.jpg'\n",
      "SUCCESS - saved https://www.fourpaws.com/-/media/Images/fourpawsnew%20NA/US/articles/potty-time-and-training/how-to-stop-a-dog-from-peeing-in-the-house/dogs-and-house-soiling-article-new-final.jpg - as ./images\\dog_in_house\\Dog_House:_Beautiful_&amp;_durable_options_that_are_great_for_your_pet_|_Most__Searched_Products_-_Times_of_India.jpg\n",
      "SUCCESS - saved https://imagesvc.meredithcorp.io/v3/jumpstartpure/image?url=https://cf-images.us-east-1.prod.boltdns.net/v1/static/474428695/90e22acb-74f6-4335-bb53-8c667b146c79/e128ac24-5353-4b71-b43d-1440315b4557/1280x720/match/image.jpg&w=1280&h=720&q=90&c=cc - as ./images\\dog_in_house\\24,565_Dog_House_Stock_Photos,_Pictures_&amp;_Royalty-Free_Images_-_iStock.jpg\n",
      "SUCCESS - saved https://5.imimg.com/data5/ZK/UG/DI/SELLER-49409162/plastic-pet-house-500x500.png - as ./images\\dog_in_house\\Ways_to_Keep_Your_House_Clean_with_a_Messy_Dog.jpg\n"
     ]
    },
    {
     "name": "stdout",
     "output_type": "stream",
     "text": [
      "ERROR - Could not save https://blissmaidservices.com/wp-content/uploads/How-To-Keep-Your-House-Clean-With-A-Dirty-Dog-01.jpg - [Errno 22] Invalid argument: './images\\\\dog_in_house\\\\10_Architects_Create_Stylish_Doghouses—for_a_Good_Cause_|_Architectural__Digest.jpg'\n",
      "SUCCESS - saved https://encrypted-tbn0.gstatic.com/images?q=tbn:ANd9GcQWZjTRf7NSLrJtCqn7w0E8lOIgI0_hSRBQnw&usqp=CAU - as ./images\\dog_in_house\\Cartoon_Dog_House_Stock_Vector_Image_&amp;_Art_-_Alamy.jpg\n",
      "ERROR - Could not save https://littledogtips.com/wp-content/uploads/2017/11/20171117_171019-e1511672548451.jpg - [Errno 22] Invalid argument: './images\\\\dog_in_house\\\\Dog_House_at_Rs_2500/piece_|_Dog_Shelter_House,_कुत्ते_का_घर_-_Paws_N__Claws,_Surat_|_ID:_16617490355.jpg'\n"
     ]
    }
   ],
   "source": [
    "search_term_dog = ['dog','dog in house','small dog','big dog','furry dog','cute dog','happy dog','sitting dog','dancing dog',\n",
    "                   'good dog']\n",
    "\n",
    "for search_term in search_term_dog:\n",
    "\n",
    "    search_and_download(search_term=search_term,driver_path=DRIVER_PATH,number_images = 1)\n",
    "\n"
   ]
  },
  {
   "cell_type": "code",
   "execution_count": null,
   "id": "7cbc3850",
   "metadata": {},
   "outputs": [],
   "source": [
    "search_term_cat = ['cat','cat in house','small cat','big cat','furry cat','cute cat','happy cat','sitting cat','dancing cat',\n",
    "                   'good cat']\n",
    "\n",
    "for search_term in search_term_cat:\n",
    "    search_and_download(search_term=search_term,driver_path=DRIVER_PATH,number_images = 2\n",
    "    )"
   ]
  },
  {
   "cell_type": "markdown",
   "id": "877e2ed1",
   "metadata": {},
   "source": [
    "## Images data\n",
    "* Dog Images - 3000\n",
    "* Cat Images - 3000"
   ]
  },
  {
   "cell_type": "markdown",
   "id": "9175f250",
   "metadata": {},
   "source": [
    "### Source code reference :- https://towardsdatascience.com/image-scraping-with-python-a96feda8af2d"
   ]
  },
  {
   "cell_type": "markdown",
   "id": "3e145b00",
   "metadata": {},
   "source": [
    "**Note:** Still working to correct the algorithm as it crashes after scraping around 50 images"
   ]
  },
  {
   "cell_type": "code",
   "execution_count": null,
   "id": "43baf126",
   "metadata": {},
   "outputs": [],
   "source": []
  }
 ],
 "metadata": {
  "kernelspec": {
   "display_name": "Python 3",
   "language": "python",
   "name": "python3"
  },
  "language_info": {
   "codemirror_mode": {
    "name": "ipython",
    "version": 3
   },
   "file_extension": ".py",
   "mimetype": "text/x-python",
   "name": "python",
   "nbconvert_exporter": "python",
   "pygments_lexer": "ipython3",
   "version": "3.8.8"
  }
 },
 "nbformat": 4,
 "nbformat_minor": 5
}
